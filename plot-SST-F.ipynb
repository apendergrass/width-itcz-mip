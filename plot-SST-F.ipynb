{
 "cells": [
  {
   "cell_type": "code",
   "execution_count": 1,
   "id": "d709fe35",
   "metadata": {
    "tags": []
   },
   "outputs": [],
   "source": [
    "%matplotlib inline\n",
    "\n",
    "import xarray as xr\n",
    "import os\n",
    "import numpy as np\n",
    "import matplotlib.pyplot as plt\n",
    "from scipy import integrate,stats\n",
    "import itczmip.load as imload\n",
    "import itczmip.compute as imcompute\n",
    "from matplotlib.lines import Line2D\n",
    "from matplotlib.patches import Patch\n",
    "import matplotlib.gridspec as gridspec\n"
   ]
  },
  {
   "cell_type": "markdown",
   "id": "c38a1f5e",
   "metadata": {
    "tags": []
   },
   "source": [
    "### Define where to save figures"
   ]
  },
  {
   "cell_type": "code",
   "execution_count": 2,
   "id": "7173883b",
   "metadata": {},
   "outputs": [],
   "source": [
    "fig_dir = 'figures'\n",
    "if not os.path.exists(fig_dir):\n",
    "    os.makedirs(fig_dir)"
   ]
  },
  {
   "cell_type": "markdown",
   "id": "d8b6def8",
   "metadata": {
    "tags": []
   },
   "source": [
    "### Calculate additional q-flux from protocol"
   ]
  },
  {
   "cell_type": "code",
   "execution_count": 3,
   "id": "c48c5d53-0f44-47df-a891-7784a4146a5c",
   "metadata": {},
   "outputs": [],
   "source": [
    "def calc_qflux(lat, A, delPhi):\n",
    "    \"\"\" computed idealized ITCZ q-flux forcing\n",
    "    lat must be in radians, A is in W/m2, change in latitude delPhi is in radians \"\"\"\n",
    "    q = np.zeros(len(lat))\n",
    "\n",
    "    B = (\n",
    "        A * np.cos(delPhi)\n",
    "        / (2 * (1 - np.sin(2 * delPhi)) * (delPhi / np.pi - np.pi / (4 * delPhi)))\n",
    "    )\n",
    "\n",
    "    q[abs(lat) > 2 * delPhi] = B\n",
    "    q[abs(lat) < delPhi] = A * np.cos(lat[abs(lat) < delPhi] * np.pi / (2 * delPhi))\n",
    "\n",
    "    return q\n"
   ]
  },
  {
   "cell_type": "markdown",
   "id": "97006249",
   "metadata": {
    "tags": []
   },
   "source": [
    "### Fig. 1: Plot additional q-flux from protocol"
   ]
  },
  {
   "cell_type": "code",
   "execution_count": 4,
   "id": "33fe211d-6641-490a-97bb-e571349befd1",
   "metadata": {},
   "outputs": [],
   "source": [
    "A_colors = [\"#c93c53\",\"#c6c6c6\"]\n",
    "\n",
    "delPhi = np.pi / 36\n",
    "phi = np.arange(-np.pi / 2, np.pi / 2, 0.001)  # [lat in rad]\n",
    "r_earth = 6.314e6\n"
   ]
  },
  {
   "cell_type": "code",
   "execution_count": 5,
   "id": "6c0614a0",
   "metadata": {},
   "outputs": [
    {
     "data": {
      "image/png": "[encoded data removed]",
      "text/plain": [
       "<Figure size 326.772x216.535 with 1 Axes>"
      ]
     },
     "metadata": {},
     "output_type": "display_data"
    }
   ],
   "source": [
    "# calculate idealized q_itcz following Eqs. 3 and 4 of ITCZMIP protocol\n",
    "A_list = [40, 0]  # [W m^-2]\n",
    "A_labels = [\n",
    "    \"itcz-slab-p40\",\n",
    "    \"itcz-slab\",\n",
    "]\n",
    "A_colors = [\"#c93c53\",\"#c6c6c6\"]\n",
    "\n",
    "delPhi = np.pi / 36\n",
    "phi = np.arange(-np.pi / 2, np.pi / 2, 0.001)  # [lat in rad]\n",
    "r_earth = 6.314e6\n",
    "\n",
    "q_itcz = np.zeros((len(A_list), len(phi)))\n",
    "OHT_itcz = np.zeros((len(A_list), len(phi)))\n",
    "for a, A in enumerate(A_list):\n",
    "    q_itcz[a, :] = calc_qflux(phi, A, delPhi)\n",
    "\n",
    "    for i in range(1, len(phi)):\n",
    "        OHT_itcz[a, i] = (\n",
    "            -2 * np.pi * r_earth ** 2\n",
    "            * integrate.simps(np.cos(phi[: i + 1]) * q_itcz[a, :i+1], x=phi[:i+1])\n",
    "        )\n",
    "\n",
    "# plot idealized q_itcz\n",
    "xticks = np.array([-80, -50, -30, -15, 0, 15, 30, 50, 80])\n",
    "xticklabels = [\"80S\", \"50S\", \"30S\", \"15S\", \"EQ\", \"15N\", \"30N\", \"50N\", \"80N\"]\n",
    "\n",
    "cm = 1/2.54  # centimeters to inches\n",
    "plt.figure(figsize=(8.3*cm, 5.5*cm))\n",
    "plt.subplot(111)\n",
    "\n",
    "plt.plot(np.sin(phi), q_itcz[0, :], label=A_labels[0],color=A_colors[0])\n",
    "plt.plot(np.sin(phi), q_itcz[1, :], label=A_labels[1],color=A_colors[1])\n",
    "\n",
    "    \n",
    "plt.xticks(np.sin(np.deg2rad(xticks)), xticklabels, fontsize=8)\n",
    "plt.xlim([-1, 1])\n",
    "plt.xlabel(\"Latitude\")\n",
    "plt.ylabel(\"Additional $q$-flux \\n[W m$^{-2}]$\")\n",
    "plt.legend(fontsize=9, frameon=False, handletextpad=0.3, labelspacing=0.2)\n",
    "plt.ylim([-44,44])\n",
    "\n",
    "\n",
    "plt.tight_layout()\n",
    "\n",
    "#plt.savefig(os.path.join(fig_dir, \"fig01.eps\"))"
   ]
  },
  {
   "cell_type": "markdown",
   "id": "b087915e",
   "metadata": {
    "tags": []
   },
   "source": [
    "### Fig. 2: Slab SST and SST difference from control\n"
   ]
  },
  {
   "cell_type": "code",
   "execution_count": 81,
   "id": "6c9aee3c",
   "metadata": {
    "collapsed": false,
    "jupyter": {
     "outputs_hidden": false
    }
   },
   "outputs": [],
   "source": [
    "experiment_list = [\n",
    "    \"itcz-SST\",\n",
    "    \"itcz-slab\",\n",
    "    \"itcz-slab-m40\",\n",
    "    \"itcz-slab-m20\",\n",
    "    \"itcz-slab-p20\",\n",
    "    \"itcz-slab-p40\",\n",
    "    \"itcz-slab-4xCO2\",\n",
    "    \"itcz-slab-4xCO2-m40\",\n",
    "    \"itcz-slab-4xCO2-m20\",\n",
    "    \"itcz-slab-4xCO2-p20\",\n",
    "    \"itcz-slab-4xCO2-p40\",\n",
    "]\n",
    "\n",
    "exp_ctl_list = experiment_list[1:6]\n",
    "exp_4xCO2_list = experiment_list[6:11]\n",
    "exp_pert_list = [x + '-4xCO2response' for x in exp_ctl_list]\n",
    "\n",
    "# definition of experiments that make up \"control\" and \"response\"\n",
    "exp_plot_lists = {\n",
    "    \"control\": exp_ctl_list,\n",
    "    \"response\": exp_pert_list,\n",
    "}\n",
    "\n",
    "data = {}\n",
    "data[\"CESM2\"] = imload.load_data(\"CESM2\", experiment_list)"
   ]
  },
  {
   "cell_type": "code",
   "execution_count": 82,
   "id": "0149985f",
   "metadata": {},
   "outputs": [],
   "source": [
    "myorder=[1,2,0,3,4]\n",
    "my_exp_ctl_list=[exp_ctl_list[i] for i in myorder]\n",
    "my_exp_pert_list=[exp_pert_list[i] for i in myorder]\n",
    "my_exp_plot_lists = {\n",
    "    \"control\": my_exp_ctl_list,\n",
    "    \"response\": my_exp_pert_list,    \n",
    "}"
   ]
  },
  {
   "cell_type": "code",
   "execution_count": 83,
   "id": "2bdd4443",
   "metadata": {},
   "outputs": [],
   "source": [
    "A_labels = [\n",
    "    \"itcz-slab-m40\",\n",
    "    \"itcz-slab-m20\",\n",
    "    \"itcz-slab-p20\",\n",
    "    \"itcz-slab-p40\",\n",
    "    \"itcz-slab\",\n",
    "]\n",
    "\n",
    "A_colors = [\"#3a38c2\",\"#8e7dc6\",\"#cf878a\",\"#c93c53\",\"#c6c6c6\"]\n",
    "\n"
   ]
  },
  {
   "cell_type": "code",
   "execution_count": 84,
   "id": "7753e63a",
   "metadata": {},
   "outputs": [],
   "source": [
    "disp_labels = [\n",
    "    \"m40\",\n",
    "    \"m20\",\n",
    "    \"p20\",\n",
    "    \"p40\",\n",
    "    \"ctl\",\n",
    "]\n"
   ]
  },
  {
   "cell_type": "code",
   "execution_count": 85,
   "id": "5b88aed6",
   "metadata": {},
   "outputs": [],
   "source": [
    "if \"_lline\" in A_labels:\n",
    "    A_labels.index(\"_lline\")"
   ]
  },
  {
   "cell_type": "code",
   "execution_count": 86,
   "id": "1ce3831b-8a10-4931-b1a7-c707d9119dce",
   "metadata": {},
   "outputs": [],
   "source": [
    "# define dictionary to account for different variable names in different models\n",
    "vn = imload.define_variable_names()\n",
    "\n"
   ]
  },
  {
   "cell_type": "code",
   "execution_count": 87,
   "id": "c15efe89-bda8-4d43-861c-8bfee5941140",
   "metadata": {},
   "outputs": [],
   "source": [
    "A_labels = [\n",
    "    \"itcz-slab-m40\",\n",
    "    \"itcz-slab-m20\",\n",
    "    \"itcz-slab-p20\",\n",
    "    \"itcz-slab-p40\",\n",
    "    \"itcz-slab\",\n",
    "]\n",
    "\n",
    "A_colors = [\"#3a38c2\",\"#8e7dc6\",\"#cf878a\",\"#c93c53\",\"#c6c6c6\"]\n",
    "\n"
   ]
  },
  {
   "cell_type": "code",
   "execution_count": 88,
   "id": "ff7be766-06f2-4702-bdee-1847fb86de5f",
   "metadata": {},
   "outputs": [],
   "source": [
    "disp_labels = [\n",
    "    \"m40\",\n",
    "    \"m20\",\n",
    "    \"p20\",\n",
    "    \"p40\",\n",
    "    \"ctl\",\n",
    "]\n"
   ]
  },
  {
   "cell_type": "code",
   "execution_count": 89,
   "id": "cb50e10a-4309-4d2e-ae13-9ab1269a6642",
   "metadata": {},
   "outputs": [],
   "source": [
    "if \"_lline\" in A_labels:\n",
    "    A_labels.index(\"_lline\")"
   ]
  },
  {
   "cell_type": "code",
   "execution_count": 90,
   "id": "795ad67d-0b8b-47fd-ba08-214775d1fe11",
   "metadata": {
    "tags": []
   },
   "outputs": [],
   "source": [
    "comparison_list = \"eqt_heating_ctl\"\n",
    "\n",
    "exp_plot_ctl = \"itcz-slab\"\n",
    "#exp_plot_pert_list = [exp_ctl_list[i] for i in [0,1,3,4]]\n",
    "\n",
    "plot_xlim = 90\n",
    "\n",
    "\n",
    "\n"
   ]
  },
  {
   "cell_type": "code",
   "execution_count": 91,
   "id": "40977efe-f01a-4bb9-8515-4de3f66ee926",
   "metadata": {},
   "outputs": [],
   "source": [
    "    #data_ctl = ctl_data\n",
    "    \n",
    "    plot_gm=False\n",
    "    plot_xlim=plot_xlim\n",
    "    unit_conv=1.0\n",
    "    unit_name=\"\""
   ]
  },
  {
   "cell_type": "markdown",
   "id": "d90dab92-0a9c-485f-8d48-af749988b65f",
   "metadata": {},
   "source": [
    "# Plot Q-fluxes and SSTs from itcz-slab for each model to make Fig S1."
   ]
  },
  {
   "cell_type": "code",
   "execution_count": 92,
   "id": "698c5c88-3803-4947-92c2-b224b0f8248c",
   "metadata": {},
   "outputs": [],
   "source": [
    "colors = {\"GFDL-AM2\": \"tab:orange\", \"CESM1\": \"tab:olive\", \"CESM2-QOBS\": \"tab:cyan\", \"CESM2\": \"tab:cyan\", \"Isca\": \"tab:grey\"}\n",
    "line_styles = {\"GFDL-AM2\": \"-\", \"CESM1\": \"-\", \"CESM2-QOBS\": \"--\", \"CESM2\": \"-\", \"Isca\": \"-\"}\n",
    "    "
   ]
  },
  {
   "cell_type": "code",
   "execution_count": 93,
   "id": "3d3c2142-cc22-4678-84ad-c2c46603a560",
   "metadata": {
    "collapsed": false,
    "jupyter": {
     "outputs_hidden": false
    }
   },
   "outputs": [],
   "source": [
    "model_list = [\"GFDL-AM2\", \"CESM1\", \"CESM2\", \"Isca\"]\n",
    "\n",
    "thismodel = \"GFDL-AM2\"\n",
    "\n",
    "data = {}\n",
    "data[thismodel] = imload.load_data(thismodel, experiment_list)"
   ]
  },
  {
   "cell_type": "code",
   "execution_count": 77,
   "id": "e0803dce-975a-41ba-8257-809e4b368cd3",
   "metadata": {},
   "outputs": [],
   "source": [
    "# define dictionary to account for different variable names in different models\n",
    "vn = imload.define_variable_names()\n",
    "\n",
    "for model in [thismodel]: #model_list:\n",
    "    for exp, ds in data[model].items():\n",
    "        imcompute.calc_derived_vars(model, ds)\n",
    "        imcompute.calc_surf_TOA_fluxes(model, ds)\n",
    "\n",
    "model = thismodel\n",
    "ctl_data = data[model][exp_plot_ctl]\n"
   ]
  },
  {
   "cell_type": "code",
   "execution_count": 99,
   "id": "f04fd0f0-2631-4460-84b5-44da82307cc9",
   "metadata": {},
   "outputs": [],
   "source": [
    "sst_data = data[model][\"itcz-SST\"]"
   ]
  },
  {
   "cell_type": "code",
   "execution_count": 106,
   "id": "ded69060-b22e-41f7-82f7-1495b72cb4c7",
   "metadata": {
    "tags": []
   },
   "outputs": [
    {
     "data": {
      "image/png": "[encoded data removed]",
      "text/plain": [
       "<Figure size 472.441x216.535 with 2 Axes>"
      ]
     },
     "metadata": {},
     "output_type": "display_data"
    }
   ],
   "source": [
    "    data_ctl = ctl_data\n",
    "    \n",
    "    plot_gm=False\n",
    "    plot_xlim=plot_xlim\n",
    "    unit_conv=1.0\n",
    "    unit_name=\"\"\n",
    "\n",
    "    #def data_and_delta(data_ctl, data_pert, variable, unit_conv=1.0, unit_name=\"\", plot_xlim=90, plot_gm=True):\n",
    "    \"\"\" Plot line plot of climatologies and differences from data_ctl\n",
    "    \n",
    "    Inputs\n",
    "    ------\n",
    "    data_ctl: xarray dataset for control experiment data\n",
    "    data_pert: list of xarray datasets with all perturbation experiments\n",
    "    variable: string (variable to plot)\n",
    "    \"\"\"\n",
    "    lat_ind = np.abs(data_ctl.lat.values) <= plot_xlim + 2\n",
    "    sin_lat = np.sin(np.deg2rad(data_ctl.lat.values[lat_ind]))\n",
    "    if plot_xlim == 90:\n",
    "        plot_xticks = [-80, -45, -30, -15, 0, 15, 30, 45, 80]\n",
    "        plot_xtick_labels = [\"80S\", \"45\", \"30\", \"15\", \"EQ\", \"15\", \"30\", \"45\", \"80N\"]\n",
    "        #plot_xticks = [-60, -30, -15, 0, 15, 30, 60]\n",
    "        #plot_xtick_labels = [\"60S\", \"30\", \"15\", \"EQ\", \"15\", \"3-\", \"60N\"]\n",
    "    elif plot_xlim == 30:\n",
    "        plot_xticks = range(-30, 31, 10)\n",
    "        plot_xtick_labels = [\"30S\", \"20S\", \"10S\", \"EQ\", \"10N\", \"20N\", \"30N\"]\n",
    "    elif plot_xlim == 20:\n",
    "        #plot_xticks = range(-20, 21, 5)\n",
    "        plot_xtick_labels = [\"20S\", \"15S\", \"10S\", \"5S\", \"EQ\", \"5N\", \"10N\", \"15N\", \"20N\"]\n",
    "        plot_xticks = range(-20, 21, 10)\n",
    "        plot_xtick_labels = [\"-20\",\"-10\", \"EQ\", \"10\", \"20\"]\n",
    "\n",
    "        \n",
    "    cm = 1/2.54  # centimeters in inches\n",
    "    fig = plt.figure(figsize=(12*cm, 5.5*cm))\n",
    "\n",
    "    ax1 = plt.subplot(1,2,1)\n",
    "    ax2 = plt.subplot(1,2,2)\n",
    "    ax_list = [ax1, ax2]\n",
    "    \n",
    "    \n",
    "    variable = \"flux_oh\"\n",
    "    var_plot = vn[model].get(variable)\n",
    "    if var_plot is None:\n",
    "        var_plot = variable\n",
    "    variable = var_plot\n",
    "\n",
    "\n",
    "    if unit_name == \"\":\n",
    "        unit_name = data_ctl[variable].units\n",
    "\n",
    "\n",
    "\n",
    "    #for data in data_pert:\n",
    "    ax1.plot(sin_lat, data_ctl[variable].values[lat_ind] * unit_conv, label=data_ctl.case\n",
    "    )   \n",
    "    ax1.set_ylabel(variable + \" [\" + unit_name + \"]\",fontsize=8)\n",
    "    ax1.legend(fontsize=8, labelspacing=0.15, frameon=False)\n",
    "    ax1.set_xlim(np.sin(np.deg2rad([-plot_xlim, plot_xlim])))\n",
    "    ax1.set_xticks(np.sin(np.deg2rad(plot_xticks)))\n",
    "    ax1.set_xticklabels(plot_xtick_labels,fontsize=8)\n",
    "    ax1.set_xlabel(\"Latitude\",fontsize=8)\n",
    "\n",
    "\n",
    "    ax1.set_title(\" \"+thismodel,fontsize=10,loc=\"right\",ha=\"left\")\n",
    "\n",
    "    \n",
    "    \n",
    "    variable = \"t_surf\"\n",
    "    var_plot = vn[model].get(variable)\n",
    "    if var_plot is None:\n",
    "        var_plot = variable\n",
    "    variable = var_plot\n",
    "\n",
    "\n",
    "    if unit_name == \"\":\n",
    "        unit_name = data_ctl[variable].units\n",
    "\n",
    "\n",
    "    ax2.plot(sin_lat, sst_data[variable].values[lat_ind] * unit_conv, label=sst_data.case, linestyle=\"dashed\", color=colors[thismodel])\n",
    "    ax2.plot(sin_lat, data_ctl[variable].values[lat_ind] * unit_conv, label=data_ctl.case, color=colors[thismodel])\n",
    "\n",
    "    ax2.set_xlim(np.sin(np.deg2rad([-plot_xlim, plot_xlim])))\n",
    "    ax2.set_xticks(np.sin(np.deg2rad(plot_xticks)))\n",
    "    ax2.set_xticklabels(plot_xtick_labels,fontsize=8)\n",
    "    ax2.set_xlabel(\"Latitude\",fontsize=8)\n",
    "    ax2.legend(fontsize=8, labelspacing=0.15, frameon=False)\n",
    "\n",
    "\n",
    "    #plt.tight_layout(rect=(0, 0, 1, 0.95))\n",
    "\n",
    "    #return ax_list\n",
    "    axes = ax_list\n",
    "    \n",
    "    #axes[0].set_ylabel(\"Precipitation [mm day$^{-1}$]\",fontsize=8)\n",
    "\n",
    "    axes[0].legend(fontsize=8, frameon=False)\n",
    "    #axes[1].legend().set_visible(False)\n",
    "    axes[0].legend().set_visible(False)\n",
    "\n",
    "\n",
    "    plt.tight_layout()\n",
    "\n",
    "\n",
    "    #plt.tight_layout(rect=(0, 0, 1, 0.95))\n",
    "\n",
    "    #return ax_list\n",
    "    axes = ax_list\n",
    "    \n",
    "    #axes[0].set_ylabel(\"Precipitation [mm day$^{-1}$]\",fontsize=8)\n",
    "\n",
    "    for ax in axes[:]:\n",
    "        for line in ax.lines:\n",
    "            lab = line.get_label()\n",
    "            if lab in A_labels:\n",
    "                #line.set_color(A_colors[A_labels.index(lab)])\n",
    "                line.set_color(colors[model])\n",
    "\n",
    "    axes[0].legend(fontsize=8, frameon=False)\n",
    "    axes[0].legend().set_visible(False)\n",
    "\n",
    "    \n",
    "    axes[0].set_ylabel(\"q-flux [W/m$^2$]\",fontsize=8)\n",
    "\n",
    "    axes[1].set_ylabel(\"SST [K]\",fontsize=8)\n",
    "\n",
    "    \n",
    "\n",
    "    plt.tight_layout()\n",
    "\n",
    "    \n",
    "    plt.savefig(os.path.join(fig_dir, \"gfdl-qflux.eps\"))"
   ]
  },
  {
   "cell_type": "code",
   "execution_count": 107,
   "id": "a8736072-dd22-45ac-ab9e-6c9227e8f8ad",
   "metadata": {
    "collapsed": false,
    "jupyter": {
     "outputs_hidden": false
    }
   },
   "outputs": [],
   "source": [
    "model_list = [\"GFDL-AM2\", \"CESM1\", \"CESM2\", \"Isca\"]\n",
    "\n",
    "thismodel = \"CESM1\"\n",
    "\n",
    "data = {}\n",
    "data[thismodel] = imload.load_data(thismodel, experiment_list)"
   ]
  },
  {
   "cell_type": "code",
   "execution_count": 108,
   "id": "63c6c6f5-673d-4fd1-9488-2dd5a775922a",
   "metadata": {},
   "outputs": [],
   "source": [
    "# define dictionary to account for different variable names in different models\n",
    "vn = imload.define_variable_names()\n",
    "\n",
    "for model in [thismodel]: #model_list:\n",
    "    for exp, ds in data[model].items():\n",
    "        imcompute.calc_derived_vars(model, ds)\n",
    "        imcompute.calc_surf_TOA_fluxes(model, ds)\n",
    "\n",
    "model = thismodel\n",
    "ctl_data = data[model][exp_plot_ctl]\n"
   ]
  },
  {
   "cell_type": "code",
   "execution_count": 109,
   "id": "7264af71-fb4b-4de8-b592-7133c77633db",
   "metadata": {},
   "outputs": [],
   "source": [
    "sst_data = data[model][\"itcz-SST\"]"
   ]
  },
  {
   "cell_type": "code",
   "execution_count": 110,
   "id": "ea38fcc0-cd2b-4df8-9c07-e46614461496",
   "metadata": {},
   "outputs": [],
   "source": [
    "ds2 = xr.open_dataset(\"./data/CESM1/ctl-slab-qflux.nc\")\n"
   ]
  },
  {
   "cell_type": "code",
   "execution_count": 111,
   "id": "18024e5b-2a80-49b8-8270-58c82670e4ee",
   "metadata": {},
   "outputs": [],
   "source": [
    "ds3 = xr.open_dataset(\"./data/CESM1/ctl-slab-sst.nc\")\n"
   ]
  },
  {
   "cell_type": "code",
   "execution_count": 116,
   "id": "d59f413d-30f7-4f01-9f00-6471f035fbd4",
   "metadata": {
    "tags": []
   },
   "outputs": [
    {
     "data": {
      "image/png": "[encoded data removed]",
      "text/plain": [
       "<Figure size 472.441x216.535 with 2 Axes>"
      ]
     },
     "metadata": {},
     "output_type": "display_data"
    }
   ],
   "source": [
    "    data_ctl = ctl_data\n",
    "    \n",
    "    plot_gm=False\n",
    "    plot_xlim=plot_xlim\n",
    "    unit_conv=1.0\n",
    "    unit_name=\"\"\n",
    "\n",
    "    #def data_and_delta(data_ctl, data_pert, variable, unit_conv=1.0, unit_name=\"\", plot_xlim=90, plot_gm=True):\n",
    "    \"\"\" Plot line plot of climatologies and differences from data_ctl\n",
    "    \n",
    "    Inputs\n",
    "    ------\n",
    "    data_ctl: xarray dataset for control experiment data\n",
    "    data_pert: list of xarray datasets with all perturbation experiments\n",
    "    variable: string (variable to plot)\n",
    "    \"\"\"\n",
    "    lat_ind = np.abs(data_ctl.lat.values) <= plot_xlim + 2\n",
    "    sin_lat = np.sin(np.deg2rad(data_ctl.lat.values[lat_ind]))\n",
    "    plot_xticks = [-80, -45, -30, -15, 0, 15, 30, 45, 80]\n",
    "    plot_xtick_labels = [\"80S\", \"45\", \"30\", \"15\", \"EQ\", \"15\", \"30\", \"45\", \"80N\"]\n",
    "    #plot_xticks = [-60, -30, -15, 0, 15, 30, 60]\n",
    "    #plot_xtick_labels = [\"60S\", \"30\", \"15\", \"EQ\", \"15\", \"3-\", \"60N\"]\n",
    "\n",
    "    #sin_lat = np.sin(np.deg2rad(data_ctl.lat.values[lat_ind]))\n",
    "\n",
    "        \n",
    "    cm = 1/2.54  # centimeters in inches\n",
    "    fig = plt.figure(figsize=(12*cm, 5.5*cm))\n",
    "\n",
    "    ax1 = plt.subplot(1,2,1)\n",
    "    ax2 = plt.subplot(1,2,2)\n",
    "    ax_list = [ax1, ax2]\n",
    "    \n",
    "    \n",
    "    variable = \"flux_oh\"\n",
    "    unit_name = \"W/m2\"\n",
    "\n",
    "    #for data in data_pert:\n",
    "    \n",
    "    ax1.plot(np.sin(np.deg2rad(ds2.lat)), ds2[variable].mean(\"lon\").mean(\"time\"), label=data_ctl.case\n",
    "    )   \n",
    "    ax1.set_ylabel(variable + \" [\" + unit_name + \"]\",fontsize=8)\n",
    "    ax1.legend(fontsize=8, labelspacing=0.15, frameon=False)\n",
    "    ax1.set_xlim(np.sin(np.deg2rad([-plot_xlim, plot_xlim])))\n",
    "    ax1.set_xticks(np.sin(np.deg2rad(plot_xticks)))\n",
    "    ax1.set_xticklabels(plot_xtick_labels,fontsize=8)\n",
    "    ax1.set_xlabel(\"Latitude\",fontsize=8)\n",
    "\n",
    "    ax1.set_title(\"   \"+thismodel,fontsize=10,loc=\"right\",ha=\"left\")\n",
    "\n",
    "    \n",
    "    \n",
    "    \n",
    "    variable = \"TS\"\n",
    "    var_plot = vn[model].get(variable)\n",
    "    if var_plot is None:\n",
    "        var_plot = variable\n",
    "    variable = var_plot\n",
    "\n",
    "\n",
    "    if unit_name == \"\":\n",
    "        unit_name = data_ctl[variable].units\n",
    "\n",
    "    lat_ind = np.abs(data_ctl.lat.values) <= plot_xlim + 2\n",
    "    sin_lat = np.sin(np.deg2rad(data_ctl.lat.values[lat_ind]))\n",
    "\n",
    "    \n",
    "    ax2.plot(sin_lat, sst_data[variable].values[lat_ind] * unit_conv, label=sst_data.case, linestyle=\"dashed\", color=colors[thismodel])\n",
    "\n",
    "    ax2.plot(sin_lat, data_ctl[variable].values[lat_ind] * unit_conv, label=data_ctl.case, color=colors[thismodel])\n",
    "\n",
    "    ax2.set_xlim(np.sin(np.deg2rad([-plot_xlim, plot_xlim])))\n",
    "    ax2.set_xticks(np.sin(np.deg2rad(plot_xticks)))\n",
    "    ax2.set_xticklabels(plot_xtick_labels,fontsize=8)\n",
    "    ax2.set_xlabel(\"Latitude\",fontsize=8)\n",
    "    ax2.legend(fontsize=8, labelspacing=0.15, frameon=False)\n",
    "\n",
    "\n",
    "    #plt.tight_layout(rect=(0, 0, 1, 0.95))\n",
    "\n",
    "    #return ax_list\n",
    "    axes = ax_list\n",
    "    \n",
    "    #axes[0].set_ylabel(\"Precipitation [mm day$^{-1}$]\",fontsize=8)\n",
    "\n",
    "    axes[0].legend(fontsize=8, frameon=False)\n",
    "    axes[1].legend().set_visible(False)\n",
    "    axes[0].legend().set_visible(False)\n",
    "\n",
    "\n",
    "    plt.tight_layout()\n",
    "\n",
    "\n",
    "    #plt.tight_layout(rect=(0, 0, 1, 0.95))\n",
    "\n",
    "    #return ax_list\n",
    "    axes = ax_list\n",
    "    \n",
    "    #axes[0].set_ylabel(\"Precipitation [mm day$^{-1}$]\",fontsize=8)\n",
    "\n",
    "    for ax in axes[:]:\n",
    "        for line in ax.lines:\n",
    "            lab = line.get_label()\n",
    "            if lab in A_labels:\n",
    "                line.set_color(colors[model])\n",
    "\n",
    "    axes[0].legend(fontsize=8, frameon=False)\n",
    "    axes[0].legend().set_visible(False)\n",
    "    axes[1].legend(fontsize=8, frameon=False)\n",
    "\n",
    "    \n",
    "    axes[0].set_ylabel(\"q-flux [W/m$^2$]\",fontsize=8)\n",
    "\n",
    "    axes[1].set_ylabel(\"SST [K]\",fontsize=8)\n",
    "\n",
    "    \n",
    "\n",
    "    plt.tight_layout()\n",
    "\n",
    "    \n",
    "    plt.savefig(os.path.join(fig_dir, \"cesm1-qflux.eps\"))"
   ]
  },
  {
   "cell_type": "code",
   "execution_count": 117,
   "id": "4123b46a-5ace-4f0d-bba4-2c9f5b8aa6ae",
   "metadata": {},
   "outputs": [],
   "source": [
    "ds2 = xr.open_dataset(\"data/CESM2/qflux-uniform.nc\")"
   ]
  },
  {
   "cell_type": "code",
   "execution_count": 118,
   "id": "8556e523-db47-46e4-9af8-37754f4a3fa3",
   "metadata": {
    "collapsed": false,
    "jupyter": {
     "outputs_hidden": false
    }
   },
   "outputs": [
    {
     "name": "stderr",
     "output_type": "stream",
     "text": [
      "/Users/agp93/Documents/github/width-itcz-mip/itczmip/load.py:23: UserWarning: rename 'lat' to 'lat' does not create an index anymore. Try using swap_dims instead or use set_index after rename to create an indexed coordinate.\n",
      "  data_exp = data_exp.rename(dim_dict[model])\n"
     ]
    }
   ],
   "source": [
    "model_list = [\"GFDL-AM2\", \"CESM1\", \"CESM2\", \"Isca\"]\n",
    "\n",
    "thismodel = \"CESM2\"\n",
    "\n",
    "data = {}\n",
    "data[thismodel] = imload.load_data(thismodel, experiment_list)"
   ]
  },
  {
   "cell_type": "code",
   "execution_count": 119,
   "id": "ba671f3f-563e-445b-9511-d074aefab2e8",
   "metadata": {},
   "outputs": [],
   "source": [
    "# define dictionary to account for different variable names in different models\n",
    "vn = imload.define_variable_names()\n",
    "\n",
    "for model in [thismodel]: #model_list:\n",
    "    for exp, ds in data[model].items():\n",
    "        imcompute.calc_derived_vars(model, ds)\n",
    "        imcompute.calc_surf_TOA_fluxes(model, ds)\n",
    "\n",
    "model = thismodel\n",
    "ctl_data = data[model][exp_plot_ctl]\n"
   ]
  },
  {
   "cell_type": "code",
   "execution_count": 120,
   "id": "8d964eb8-dcad-4915-8853-6be74a6681f5",
   "metadata": {},
   "outputs": [],
   "source": [
    "sst_data = data[model][\"itcz-SST\"]"
   ]
  },
  {
   "cell_type": "code",
   "execution_count": 121,
   "id": "17dafb5e-ec98-4e2e-8659-7e59de33960b",
   "metadata": {
    "tags": []
   },
   "outputs": [],
   "source": [
    "\n",
    "\n",
    "comparison_list = \"eqt_heating_ctl\"\n",
    "model = \"CESM2\"\n",
    "variable = \"TS\"\n",
    "\n",
    "exp_plot_ctl = \"itcz-slab\"\n",
    "#exp_plot_pert_list = [exp_ctl_list[i] for i in [0,1,3,4]]\n",
    "exp_plot_pert_list = [\"itcz-slab-m40\",\"itcz-slab-m20\",\"itcz-slab-p20\",\"itcz-slab-p40\"]\n",
    "\n",
    "plot_xlim = 90\n",
    "\n",
    "ctl_data = data[model][exp_plot_ctl]\n",
    "pert_data = [data[model][x] for x in exp_plot_pert_list]\n",
    "\n",
    "var_plot = vn[model].get(variable)\n",
    "if var_plot is None:\n",
    "    var_plot = variable\n",
    "\n"
   ]
  },
  {
   "cell_type": "code",
   "execution_count": 123,
   "id": "b0d2b465-9cd6-4adb-ab03-f81ff2f77776",
   "metadata": {
    "tags": []
   },
   "outputs": [
    {
     "data": {
      "image/png": "[encoded data removed]",
      "text/plain": [
       "<Figure size 472.441x216.535 with 2 Axes>"
      ]
     },
     "metadata": {},
     "output_type": "display_data"
    }
   ],
   "source": [
    "    data_ctl = ctl_data\n",
    "    data_pert = pert_data\n",
    "    variable = var_plot\n",
    "    plot_gm=False\n",
    "    plot_xlim=plot_xlim\n",
    "    unit_conv=1.0\n",
    "    unit_name=\"\"\n",
    "\n",
    "    #def data_and_delta(data_ctl, data_pert, variable, unit_conv=1.0, unit_name=\"\", plot_xlim=90, plot_gm=True):\n",
    "    \"\"\" Plot line plot of climatologies and differences from data_ctl\n",
    "    \n",
    "    Inputs\n",
    "    ------\n",
    "    data_ctl: xarray dataset for control experiment data\n",
    "    data_pert: list of xarray datasets with all perturbation experiments\n",
    "    variable: string (variable to plot)\n",
    "    \"\"\"\n",
    "    lat_ind = np.abs(data_ctl.lat.values) <= plot_xlim + 2\n",
    "    sin_lat = np.sin(np.deg2rad(data_ctl.lat.values[lat_ind]))\n",
    "    if plot_xlim == 90:\n",
    "        plot_xticks = [-80, -45, -30, -15, 0, 15, 30, 45, 80]\n",
    "        plot_xtick_labels = [\"80S\", \"45\", \"30\", \"15\", \"EQ\", \"15\", \"30\", \"45\", \"80\"]\n",
    "    elif plot_xlim == 30:\n",
    "        plot_xticks = range(-30, 31, 10)\n",
    "        plot_xtick_labels = [\"30S\", \"20S\", \"10S\", \"EQ\", \"10N\", \"20N\", \"30N\"]\n",
    "    elif plot_xlim == 20:\n",
    "        #plot_xticks = range(-20, 21, 5)\n",
    "        plot_xtick_labels = [\"20S\", \"15S\", \"10S\", \"5S\", \"EQ\", \"5N\", \"10N\", \"15N\", \"20N\"]\n",
    "        plot_xticks = range(-20, 21, 10)\n",
    "        plot_xtick_labels = [\"-20\",\"-10\", \"EQ\", \"10\", \"20\"]\n",
    "\n",
    "\n",
    "    if unit_name == \"\":\n",
    "        unit_name = data_ctl[variable].units\n",
    "\n",
    "    cm = 1/2.54  # centimeters in inches\n",
    "    fig = plt.figure(figsize=(12*cm, 5.5*cm))\n",
    "    #fig = plt.figure(figsize=(7.5, 3.2))\n",
    "    #plt.suptitle(data_ctl.model)\n",
    "    \n",
    "    # gs = gridspec.GridSpec(1, 2)\n",
    "    # ax1 = fig.add_subplot(gs[0])\n",
    "    # ax2 = fig.add_subplot(gs[1])\n",
    "    ax1 = plt.subplot(1,2,1)\n",
    "    ax2 = plt.subplot(1,2,2)\n",
    "    ax_list = [ax1, ax2]\n",
    "\n",
    "    #for data in data_pert:\n",
    "    ax1.plot(sin_lat, -ds2.qdp.mean(\"time\").mean(\"lon\"), label=data_ctl.case\n",
    "    )   \n",
    "    ax1.set_ylabel(variable + \" [\" + unit_name + \"]\",fontsize=8)\n",
    "    ax1.legend(fontsize=8, labelspacing=0.15, frameon=False)\n",
    "    ax1.set_xlim(np.sin(np.deg2rad([-plot_xlim, plot_xlim])))\n",
    "    ax1.set_xticks(np.sin(np.deg2rad(plot_xticks)))\n",
    "    ax1.set_xticklabels(plot_xtick_labels,fontsize=8)\n",
    "    ax1.set_xlabel(\"Latitude\",fontsize=8)\n",
    "\n",
    " \n",
    "\n",
    "    #plt.tight_layout(rect=(0, 0, 1, 0.95))\n",
    "\n",
    "    #return ax_list\n",
    "    axes = ax_list\n",
    "    \n",
    "    #axes[0].set_ylabel(\"Precipitation [mm day$^{-1}$]\",fontsize=8)\n",
    "\n",
    "    for ax in axes[:]:\n",
    "        for line in ax.lines:\n",
    "            lab = line.get_label()\n",
    "            if lab in A_labels:\n",
    "                line.set_color(colors[model])\n",
    "\n",
    "    axes[0].legend(fontsize=8, frameon=False)\n",
    "    axes[0].legend().set_visible(False)\n",
    "\n",
    "    \n",
    "    \n",
    "    variable = \"TS\"\n",
    "    var_plot = vn[model].get(variable)\n",
    "    if var_plot is None:\n",
    "        var_plot = variable\n",
    "    variable = var_plot\n",
    "\n",
    "\n",
    "    if unit_name == \"\":\n",
    "        unit_name = data_ctl[variable].units\n",
    "\n",
    "    lat_ind = np.abs(data_ctl.lat.values) <= plot_xlim + 2\n",
    "    sin_lat = np.sin(np.deg2rad(data_ctl.lat.values[lat_ind]))\n",
    "\n",
    "    ax2.plot(sin_lat, sst_data[variable].values[lat_ind] * unit_conv, label=sst_data.case, color=colors[thismodel], linestyle=\"dashed\")\n",
    "    ax2.plot(sin_lat, data_ctl[variable].values[lat_ind] * unit_conv, label=data_ctl.case, color=colors[thismodel])\n",
    "\n",
    "    ax2.set_xlim(np.sin(np.deg2rad([-plot_xlim, plot_xlim])))\n",
    "    ax2.set_xticks(np.sin(np.deg2rad(plot_xticks)))\n",
    "    ax2.set_xticklabels(plot_xtick_labels,fontsize=8)\n",
    "    ax2.set_xlabel(\"Latitude\",fontsize=8)\n",
    "    ax2.legend(fontsize=8, labelspacing=0.15, frameon=False)\n",
    "\n",
    "\n",
    "    #plt.tight_layout(rect=(0, 0, 1, 0.95))\n",
    "\n",
    "    #return ax_list\n",
    "    axes = ax_list\n",
    "    \n",
    "    #axes[0].set_ylabel(\"Precipitation [mm day$^{-1}$]\",fontsize=8)\n",
    "\n",
    "    ax1.set_title(\"    \"+thismodel,fontsize=10,loc=\"right\",ha=\"left\")\n",
    "\n",
    "    \n",
    "    axes[0].legend(fontsize=8, frameon=False)\n",
    "    axes[1].legend().set_visible(False)\n",
    "    axes[0].legend().set_visible(False)\n",
    "\n",
    "\n",
    "    plt.tight_layout()\n",
    "\n",
    "\n",
    "    #plt.tight_layout(rect=(0, 0, 1, 0.95))\n",
    "\n",
    "    #return ax_list\n",
    "    axes = ax_list\n",
    "    \n",
    "    #axes[0].set_ylabel(\"Precipitation [mm day$^{-1}$]\",fontsize=8)\n",
    "\n",
    "    for ax in axes[:]:\n",
    "        for line in ax.lines:\n",
    "            lab = line.get_label()\n",
    "            if lab in A_labels:\n",
    "                line.set_color(colors[model])\n",
    "\n",
    "    axes[0].legend(fontsize=8, frameon=False)\n",
    "    axes[0].legend().set_visible(False)\n",
    "\n",
    "    axes[1].legend(fontsize=8, frameon=False)\n",
    "\n",
    "    axes[0].set_ylabel(\"q-flux [W/m$^2$]\",fontsize=8)\n",
    "\n",
    "    axes[1].set_ylabel(\"SST [K]\",fontsize=8)\n",
    "\n",
    "    \n",
    "\n",
    "    plt.tight_layout()\n",
    "\n",
    "    \n",
    "    \n",
    "    \n",
    "    \n",
    "\n",
    "    plt.tight_layout()\n",
    "\n",
    "    \n",
    "    plt.savefig(os.path.join(fig_dir, \"cesm2-qflux.eps\"))"
   ]
  },
  {
   "cell_type": "code",
   "execution_count": 124,
   "id": "71981227-2345-4d96-9af6-1acc00ff48bf",
   "metadata": {
    "collapsed": false,
    "jupyter": {
     "outputs_hidden": false
    }
   },
   "outputs": [
    {
     "name": "stderr",
     "output_type": "stream",
     "text": [
      "/Users/agp93/Documents/github/width-itcz-mip/itczmip/load.py:23: UserWarning: rename 'lat' to 'lat' does not create an index anymore. Try using swap_dims instead or use set_index after rename to create an indexed coordinate.\n",
      "  data_exp = data_exp.rename(dim_dict[model])\n"
     ]
    }
   ],
   "source": [
    "model_list = [\"GFDL-AM2\", \"CESM1\", \"CESM2\", \"Isca\"]\n",
    "\n",
    "thismodel = \"Isca\"\n",
    "\n",
    "data = {}\n",
    "data[thismodel] = imload.load_data(thismodel, experiment_list)"
   ]
  },
  {
   "cell_type": "code",
   "execution_count": 125,
   "id": "79b010e8-ddaf-4087-97d8-f5035bca67f5",
   "metadata": {},
   "outputs": [],
   "source": [
    "# define dictionary to account for different variable names in different models\n",
    "vn = imload.define_variable_names()\n",
    "\n",
    "for model in [thismodel]: #model_list:\n",
    "    for exp, ds in data[model].items():\n",
    "        imcompute.calc_derived_vars(model, ds)\n",
    "        imcompute.calc_surf_TOA_fluxes(model, ds)\n",
    "\n",
    "model = thismodel\n",
    "ctl_data = data[model][exp_plot_ctl]\n"
   ]
  },
  {
   "cell_type": "code",
   "execution_count": 126,
   "id": "68510dd5-7292-4fb0-8701-770b997e0e62",
   "metadata": {},
   "outputs": [],
   "source": [
    "ds5 = xr.open_dataset(\"data/Isca/itcz_mip_q_flux.nc\")"
   ]
  },
  {
   "cell_type": "code",
   "execution_count": 41,
   "id": "384cdd28-069b-4097-9376-3d6e26675970",
   "metadata": {},
   "outputs": [],
   "source": [
    "## same thing, opposite sign\n",
    "#plt.plot(ds5.lat,-ds5.f.mean(\"lon\"))\n",
    "#plt.plot(ds5.lat,ds5.q_flux_slab.mean(\"lon\"))"
   ]
  },
  {
   "cell_type": "code",
   "execution_count": 127,
   "id": "c1c421f8-4101-479a-8d75-13edf008e16d",
   "metadata": {},
   "outputs": [],
   "source": [
    "sst_data = data[model][\"itcz-SST\"]"
   ]
  },
  {
   "cell_type": "code",
   "execution_count": 128,
   "id": "729ebbe5-1676-497d-8fdb-28be628bd422",
   "metadata": {
    "tags": []
   },
   "outputs": [
    {
     "data": {
      "image/png": "[encoded data removed]",
      "text/plain": [
       "<Figure size 472.441x216.535 with 2 Axes>"
      ]
     },
     "metadata": {},
     "output_type": "display_data"
    }
   ],
   "source": [
    "    data_ctl = ctl_data\n",
    "    \n",
    "    plot_gm=False\n",
    "    plot_xlim=plot_xlim\n",
    "    unit_conv=1.0\n",
    "    unit_name=\"\"\n",
    "\n",
    "    #def data_and_delta(data_ctl, data_pert, variable, unit_conv=1.0, unit_name=\"\", plot_xlim=90, plot_gm=True):\n",
    "    \"\"\" Plot line plot of climatologies and differences from data_ctl\n",
    "    \n",
    "    Inputs\n",
    "    ------\n",
    "    data_ctl: xarray dataset for control experiment data\n",
    "    data_pert: list of xarray datasets with all perturbation experiments\n",
    "    variable: string (variable to plot)\n",
    "    \"\"\"\n",
    "    lat_ind = np.abs(data_ctl.lat.values) <= plot_xlim + 2\n",
    "    sin_lat = np.sin(np.deg2rad(data_ctl.lat.values[lat_ind]))\n",
    "    if plot_xlim == 90:\n",
    "        plot_xticks = [-80, -45, -30, -15, 0, 15, 30, 45, 80]\n",
    "        plot_xtick_labels = [\"80S\", \"45\", \"30\", \"15\", \"EQ\", \"15\", \"30\", \"45\", \"80N\"]\n",
    "        #plot_xticks = [-60, -30, -15, 0, 15, 30, 60]\n",
    "        #plot_xtick_labels = [\"60S\", \"30\", \"15\", \"EQ\", \"15\", \"3-\", \"60N\"]\n",
    "    elif plot_xlim == 30:\n",
    "        plot_xticks = range(-30, 31, 10)\n",
    "        plot_xtick_labels = [\"30S\", \"20S\", \"10S\", \"EQ\", \"10N\", \"20N\", \"30N\"]\n",
    "    elif plot_xlim == 20:\n",
    "        #plot_xticks = range(-20, 21, 5)\n",
    "        plot_xtick_labels = [\"20S\", \"15S\", \"10S\", \"5S\", \"EQ\", \"5N\", \"10N\", \"15N\", \"20N\"]\n",
    "        plot_xticks = range(-20, 21, 10)\n",
    "        plot_xtick_labels = [\"-20\",\"-10\", \"EQ\", \"10\", \"20\"]\n",
    "\n",
    "        \n",
    "    cm = 1/2.54  # centimeters in inches\n",
    "    fig = plt.figure(figsize=(12*cm, 5.5*cm))\n",
    "\n",
    "    ax1 = plt.subplot(1,2,1)\n",
    "    ax2 = plt.subplot(1,2,2)\n",
    "    ax_list = [ax1, ax2]\n",
    "    \n",
    "    \n",
    "    variable = \"ts\"\n",
    "    var_plot = vn[model].get(variable)\n",
    "    if var_plot is None:\n",
    "        var_plot = variable\n",
    "    variable = var_plot\n",
    "\n",
    "\n",
    "    if unit_name == \"\":\n",
    "        unit_name = data_ctl[variable].units\n",
    "\n",
    "\n",
    "\n",
    "    #for data in data_pert:\n",
    "    ax1.plot(sin_lat, ds5.q_flux_slab.mean(\"lon\") , label=data_ctl.case\n",
    "    )   \n",
    "    ax1.set_ylabel(variable + \" [\" + unit_name + \"]\",fontsize=8)\n",
    "    ax1.legend(fontsize=8, labelspacing=0.15, frameon=False)\n",
    "    ax1.set_xlim(np.sin(np.deg2rad([-plot_xlim, plot_xlim])))\n",
    "    ax1.set_xticks(np.sin(np.deg2rad(plot_xticks)))\n",
    "    ax1.set_xticklabels(plot_xtick_labels,fontsize=8)\n",
    "    ax1.set_xlabel(\"Latitude\",fontsize=8)\n",
    "\n",
    "    ax1.set_title(\"    \"+thismodel,fontsize=10,loc=\"right\",ha=\"left\")\n",
    "    \n",
    "    #plt.text(1,1,thismodel,fontsize=10,transform=ax.transAxes)\n",
    "\n",
    "    \n",
    "    variable = \"ts\"\n",
    "    var_plot = vn[model].get(variable)\n",
    "    if var_plot is None:\n",
    "        var_plot = variable\n",
    "    variable = var_plot\n",
    "\n",
    "\n",
    "    if unit_name == \"\":\n",
    "        unit_name = data_ctl[variable].units\n",
    "\n",
    "    ax2.plot(sin_lat, sst_data[variable].values[lat_ind] * unit_conv, label=sst_data.case,color=colors[thismodel],linestyle=\"dashed\")\n",
    "    ax2.plot(sin_lat, data_ctl[variable].values[lat_ind] * unit_conv, label=data_ctl.case,color=colors[thismodel])\n",
    "\n",
    "    ax2.set_xlim(np.sin(np.deg2rad([-plot_xlim, plot_xlim])))\n",
    "    ax2.set_xticks(np.sin(np.deg2rad(plot_xticks)))\n",
    "    ax2.set_xticklabels(plot_xtick_labels,fontsize=8)\n",
    "    ax2.set_xlabel(\"Latitude\",fontsize=8)\n",
    "    ax2.legend(fontsize=8, labelspacing=0.15, frameon=False)\n",
    "\n",
    "\n",
    "    #plt.tight_layout(rect=(0, 0, 1, 0.95))\n",
    "\n",
    "    #return ax_list\n",
    "    axes = ax_list\n",
    "    \n",
    "    #axes[0].set_ylabel(\"Precipitation [mm day$^{-1}$]\",fontsize=8)\n",
    "\n",
    "    axes[0].legend(fontsize=8, frameon=False)\n",
    "    axes[0].legend().set_visible(False)\n",
    "    axes[1].legend(fontsize=8, frameon=False)\n",
    "\n",
    "\n",
    "    plt.tight_layout()\n",
    "\n",
    "\n",
    "    #plt.tight_layout(rect=(0, 0, 1, 0.95))\n",
    "\n",
    "    #return ax_list\n",
    "    axes = ax_list\n",
    "    \n",
    "    #axes[0].set_ylabel(\"Precipitation [mm day$^{-1}$]\",fontsize=8)\n",
    "\n",
    "    for ax in axes[:]:\n",
    "        for line in ax.lines:\n",
    "            lab = line.get_label()\n",
    "            if lab in A_labels:\n",
    "                line.set_color(colors[model])\n",
    "\n",
    "    axes[0].legend(fontsize=8, frameon=False)\n",
    "    axes[0].legend().set_visible(False)\n",
    "\n",
    "    \n",
    "    axes[0].set_ylabel(\"q-flux [W/m$^2$]\",fontsize=8)\n",
    "\n",
    "    axes[1].set_ylabel(\"SST [K]\",fontsize=8)\n",
    "\n",
    "\n",
    "    \n",
    "    plt.tight_layout()\n",
    "\n",
    "\n",
    "    \n",
    "    plt.savefig(os.path.join(fig_dir, \"isca-qflux.eps\"))"
   ]
  },
  {
   "cell_type": "code",
   "execution_count": null,
   "id": "bc0e9cea-805d-4f76-b838-d8f0af5ec4e3",
   "metadata": {},
   "outputs": [],
   "source": []
  }
 ],
 "metadata": {
  "kernelspec": {
   "display_name": "Python 3 (ipykernel)",
   "language": "python",
   "name": "python3"
  },
  "language_info": {
   "codemirror_mode": {
    "name": "ipython",
    "version": 3
   },
   "file_extension": ".py",
   "mimetype": "text/x-python",
   "name": "python",
   "nbconvert_exporter": "python",
   "pygments_lexer": "ipython3",
   "version": "3.10.6"
  }
 },
 "nbformat": 4,
 "nbformat_minor": 5
}
